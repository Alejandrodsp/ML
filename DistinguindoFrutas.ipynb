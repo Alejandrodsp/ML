{
  "nbformat": 4,
  "nbformat_minor": 0,
  "metadata": {
    "colab": {
      "name": "DistinguindoFrutas-Alejandro.ipynb",
      "provenance": [],
      "collapsed_sections": [],
      "toc_visible": true
    },
    "kernelspec": {
      "name": "python3",
      "display_name": "Python 3"
    }
  },
  "cells": [
    {
      "cell_type": "markdown",
      "metadata": {
        "id": "OxxcDmyIZecG"
      },
      "source": [
        "# Tarefa: Treinando uma árvore de decisão do dataset de frutas\n"
      ]
    },
    {
      "cell_type": "markdown",
      "metadata": {
        "id": "lQvEEhfMYdgS"
      },
      "source": [
        "Nesta tarefa, vocês devem treinar e avaliar uma árvore de decisão no dataset de frutas. Utilizem o Colab e scikit-learn como base. Além de treinar no conjunto de treino e testar no de teste, juntem os datasets para também avaliarem de forma mais criteriosa utilizando k-folds ou bootstraping."
      ]
    },
    {
      "cell_type": "markdown",
      "metadata": {
        "id": "S2Ow1WoyZvaJ"
      },
      "source": [
        "# Carregando os dados\n",
        "\n",
        "No código abaixo irei carregar as tabelas de dados utilizando a biblioteca pandas. A primeira tabela será usada como treinamento e a outra como teste."
      ]
    },
    {
      "cell_type": "code",
      "metadata": {
        "id": "TnfzO9eVcKkK",
        "colab": {
          "base_uri": "https://localhost:8080/"
        },
        "outputId": "782b7486-1c5b-4ae3-bb1b-29ab4e283bef"
      },
      "source": [
        "# Baixar os dados\n",
        "!wget https://www.dropbox.com/s/lopzmgfal5tzuo4/FrutasTreino.csv\n",
        "!wget https://www.dropbox.com/s/iiw0p3gkpyksphl/FrutasTeste.csv\n",
        "\n",
        "import pandas as pd\n",
        "\n",
        "dados_treino = pd.read_csv(\"FrutasTreino.csv\", index_col=0)\n",
        "dados_teste = pd.read_csv(\"FrutasTeste.csv\", index_col=0)\n",
        "dados_completos = pd.concat([dados_treino,dados_teste]) #Juntando ambas tabelas para depois avaliar usando k-folds e bootstraping"
      ],
      "execution_count": null,
      "outputs": [
        {
          "output_type": "stream",
          "text": [
            "--2021-08-30 17:45:53--  https://www.dropbox.com/s/lopzmgfal5tzuo4/FrutasTreino.csv\n",
            "Resolving www.dropbox.com (www.dropbox.com)... 162.125.3.18, 2620:100:6035:18::a27d:5512\n",
            "Connecting to www.dropbox.com (www.dropbox.com)|162.125.3.18|:443... connected.\n",
            "HTTP request sent, awaiting response... 301 Moved Permanently\n",
            "Location: /s/raw/lopzmgfal5tzuo4/FrutasTreino.csv [following]\n",
            "--2021-08-30 17:45:53--  https://www.dropbox.com/s/raw/lopzmgfal5tzuo4/FrutasTreino.csv\n",
            "Reusing existing connection to www.dropbox.com:443.\n",
            "HTTP request sent, awaiting response... 302 Found\n",
            "Location: https://ucbd4150b5f7d03bece06c9c8c0c.dl.dropboxusercontent.com/cd/0/inline/BVMrnCgGlypF3uqOUTndG-d7HdLRezAYx8jVaI7F38iDuKaqT6XWvlqztGguOre7AjY8Sw3-ksqpqQlbK8xcfsw8ZoSPfit0DN0OVNn2FOrnIIL2M_Xm5QRktrZ_Vpgat4SHYqob-xAvo6CpAXiXPtvf/file# [following]\n",
            "--2021-08-30 17:45:54--  https://ucbd4150b5f7d03bece06c9c8c0c.dl.dropboxusercontent.com/cd/0/inline/BVMrnCgGlypF3uqOUTndG-d7HdLRezAYx8jVaI7F38iDuKaqT6XWvlqztGguOre7AjY8Sw3-ksqpqQlbK8xcfsw8ZoSPfit0DN0OVNn2FOrnIIL2M_Xm5QRktrZ_Vpgat4SHYqob-xAvo6CpAXiXPtvf/file\n",
            "Resolving ucbd4150b5f7d03bece06c9c8c0c.dl.dropboxusercontent.com (ucbd4150b5f7d03bece06c9c8c0c.dl.dropboxusercontent.com)... 162.125.3.15, 2620:100:601b:15::a27d:80f\n",
            "Connecting to ucbd4150b5f7d03bece06c9c8c0c.dl.dropboxusercontent.com (ucbd4150b5f7d03bece06c9c8c0c.dl.dropboxusercontent.com)|162.125.3.15|:443... connected.\n",
            "HTTP request sent, awaiting response... 200 OK\n",
            "Length: 1196 (1.2K) [text/plain]\n",
            "Saving to: ‘FrutasTreino.csv’\n",
            "\n",
            "FrutasTreino.csv    100%[===================>]   1.17K  --.-KB/s    in 0s      \n",
            "\n",
            "2021-08-30 17:45:54 (141 MB/s) - ‘FrutasTreino.csv’ saved [1196/1196]\n",
            "\n",
            "--2021-08-30 17:45:54--  https://www.dropbox.com/s/iiw0p3gkpyksphl/FrutasTeste.csv\n",
            "Resolving www.dropbox.com (www.dropbox.com)... 162.125.3.18, 2620:100:6035:18::a27d:5512\n",
            "Connecting to www.dropbox.com (www.dropbox.com)|162.125.3.18|:443... connected.\n",
            "HTTP request sent, awaiting response... 301 Moved Permanently\n",
            "Location: /s/raw/iiw0p3gkpyksphl/FrutasTeste.csv [following]\n",
            "--2021-08-30 17:45:54--  https://www.dropbox.com/s/raw/iiw0p3gkpyksphl/FrutasTeste.csv\n",
            "Reusing existing connection to www.dropbox.com:443.\n",
            "HTTP request sent, awaiting response... 302 Found\n",
            "Location: https://uc0161dfd5b13f66562295455fdf.dl.dropboxusercontent.com/cd/0/inline/BVPYo5j6nQrCD6BA3ItaQNwC_RVld1Szo72IJ7DS8lb2X_lnrxbfGbVZ7s3Oobf_5K892s_ufcnAvRUdZdVpj3Bk46pdDQLdw7feA_gfHKXs-8F6COvH1vWBnIApBkFrIf1dEced3pDynjKC6u4OvJGT/file# [following]\n",
            "--2021-08-30 17:45:54--  https://uc0161dfd5b13f66562295455fdf.dl.dropboxusercontent.com/cd/0/inline/BVPYo5j6nQrCD6BA3ItaQNwC_RVld1Szo72IJ7DS8lb2X_lnrxbfGbVZ7s3Oobf_5K892s_ufcnAvRUdZdVpj3Bk46pdDQLdw7feA_gfHKXs-8F6COvH1vWBnIApBkFrIf1dEced3pDynjKC6u4OvJGT/file\n",
            "Resolving uc0161dfd5b13f66562295455fdf.dl.dropboxusercontent.com (uc0161dfd5b13f66562295455fdf.dl.dropboxusercontent.com)... 162.125.3.15, 2620:100:6018:15::a27d:30f\n",
            "Connecting to uc0161dfd5b13f66562295455fdf.dl.dropboxusercontent.com (uc0161dfd5b13f66562295455fdf.dl.dropboxusercontent.com)|162.125.3.15|:443... connected.\n",
            "HTTP request sent, awaiting response... 200 OK\n",
            "Length: 310 [text/plain]\n",
            "Saving to: ‘FrutasTeste.csv’\n",
            "\n",
            "FrutasTeste.csv     100%[===================>]     310  --.-KB/s    in 0s      \n",
            "\n",
            "2021-08-30 17:45:54 (58.6 MB/s) - ‘FrutasTeste.csv’ saved [310/310]\n",
            "\n"
          ],
          "name": "stdout"
        }
      ]
    },
    {
      "cell_type": "markdown",
      "metadata": {
        "id": "2PTgGd-Ev9i8"
      },
      "source": [
        "# Treinamento\n",
        "\n",
        "Para treinar vamos utilizar uma árvore de decisão como modelo. O sklearn implementa o `DecisionTreeClassifier`, que é um modelo CART. Podemos aproximar o modelo do C4.5 usando entropia no lugar de gini para decidir os atributos em cada nó."
      ]
    },
    {
      "cell_type": "code",
      "metadata": {
        "id": "4rPcYRBLu4Sx"
      },
      "source": [
        "from sklearn.tree import DecisionTreeClassifier\n",
        "\n",
        "modelo = DecisionTreeClassifier(random_state=0, criterion=\"entropy\")\n",
        "\n",
        "# A função fit recebe como primeiro parâmetro uma matriz CxN, com C colunas e N linhas, onde cada linha especifica um exemplo\n",
        "# O segundo parâmetro é um vetor com N posições, indicando os rótulos das linhas da matriz no primeiro parâmetro\n",
        "\n",
        "x_treino = dados_treino.drop('fruit_name', axis='columns')\n",
        "y_treino = dados_treino['fruit_name']\n",
        "modelo_treinado = modelo.fit(x_treino, y_treino)"
      ],
      "execution_count": null,
      "outputs": []
    },
    {
      "cell_type": "markdown",
      "metadata": {
        "id": "CeSL8nx2FK67"
      },
      "source": [
        "# Avaliação do modelo\n",
        "\n",
        "Com o modelo treinado, temos que avaliá-lo no conjunto de teste. O sklearn implementa a maior parte das métricas comuns, bem como permite mostrar a matriz de confusão completa. "
      ]
    },
    {
      "cell_type": "code",
      "metadata": {
        "id": "Jv4GVeW3xuGq",
        "colab": {
          "base_uri": "https://localhost:8080/"
        },
        "outputId": "44e6e018-7452-4600-faec-4ebf461472dd"
      },
      "source": [
        "from sklearn.metrics import accuracy_score\n",
        "\n",
        "# Separamos atributos e classe dos dados de teste\n",
        "x_teste = dados_teste.drop('fruit_name', axis='columns')\n",
        "y_teste = dados_teste['fruit_name']\n",
        "\n",
        "# Passamos os exemplos sem classe pelo modelo treinado, que retorna a predicao em um vetor\n",
        "predicoes = modelo_treinado.predict(x_teste)\n",
        "\n",
        "# Com as predicoes, podemos calcular as métricas. Abaixo, a acurácia.\n",
        "\n",
        "acuracia = accuracy_score(y_teste, predicoes)\n",
        "print(\"Acurácia do modelo: \", acuracia)\n"
      ],
      "execution_count": null,
      "outputs": [
        {
          "output_type": "stream",
          "text": [
            "Acurácia do modelo:  0.9090909090909091\n"
          ],
          "name": "stdout"
        }
      ]
    },
    {
      "cell_type": "markdown",
      "metadata": {
        "id": "Cl_4SFt5Ke0A"
      },
      "source": [
        "Apesar de termos obtido 90.9% de acurácia não podemos afirmar o quão bom foi nosso modelo, visto que as classes podem não são perfeitamente balanceadas, abaixo podemos plotar mais dados que permitam uma melhor interpretação dos resultados obtidos."
      ]
    },
    {
      "cell_type": "code",
      "metadata": {
        "id": "hCZLA3SA-JLb",
        "colab": {
          "base_uri": "https://localhost:8080/"
        },
        "outputId": "ed6a29ff-034d-44ec-8778-72733dd40558"
      },
      "source": [
        "from sklearn.metrics import classification_report\n",
        "\n",
        "relatorio = classification_report(y_teste, predicoes)\n",
        "print(relatorio)"
      ],
      "execution_count": null,
      "outputs": [
        {
          "output_type": "stream",
          "text": [
            "              precision    recall  f1-score   support\n",
            "\n",
            "       apple       1.00      0.75      0.86         4\n",
            "       lemon       1.00      1.00      1.00         3\n",
            "    mandarin       1.00      1.00      1.00         1\n",
            "      orange       0.75      1.00      0.86         3\n",
            "\n",
            "    accuracy                           0.91        11\n",
            "   macro avg       0.94      0.94      0.93        11\n",
            "weighted avg       0.93      0.91      0.91        11\n",
            "\n"
          ],
          "name": "stdout"
        }
      ]
    },
    {
      "cell_type": "markdown",
      "metadata": {
        "id": "I3vEz_vlLeuT"
      },
      "source": [
        "Ao criar a matriz de confusão para os resultados podemos observar aonde nosso modelo está errando com mais clareza, podemos por exemplo observar que ele está classificando uma das maças como laranja, é bem efidente que com a matriz de confusão podemos perceber o quão bom está nosso modelo e aonde o mesmo está errando. Porém fica a pergunta se estamos de fato testando nosso modelo de forma eficiente, para isso podemos usar outras métricas de avaliação mais poderosas como k-folds e bootstraping."
      ]
    },
    {
      "cell_type": "code",
      "metadata": {
        "id": "6s7Pyhr4KKrU",
        "colab": {
          "base_uri": "https://localhost:8080/",
          "height": 300
        },
        "outputId": "72956602-6b21-492a-b986-4af8f3b74fc6"
      },
      "source": [
        "from sklearn.metrics import plot_confusion_matrix\n",
        "\n",
        "plot_confusion_matrix(modelo_treinado, x_teste, y_teste)"
      ],
      "execution_count": null,
      "outputs": [
        {
          "output_type": "execute_result",
          "data": {
            "text/plain": [
              "<sklearn.metrics._plot.confusion_matrix.ConfusionMatrixDisplay at 0x7f7111511bd0>"
            ]
          },
          "metadata": {},
          "execution_count": 96
        },
        {
          "output_type": "display_data",
          "data": {
            "image/png": "[encoded data removed]",
            "text/plain": [
              "<Figure size 432x288 with 2 Axes>"
            ]
          },
          "metadata": {
            "needs_background": "light"
          }
        }
      ]
    },
    {
      "cell_type": "markdown",
      "metadata": {
        "id": "Ptutbg1DU_wt"
      },
      "source": [
        "##Melhorando a avaliação\n",
        "Para melhorar a avaliação irei utilizar a tabela de dados completa, que vem a ser uma junção da tabela de treinamento com a de teste, nessa tabela contendo todos os dados irei aplicar duas técnicas de validação cruzada chamadas **bootstrapping** e **k-fold**."
      ]
    },
    {
      "cell_type": "markdown",
      "metadata": {
        "id": "wGWxsQbKi6PU"
      },
      "source": [
        "## Bootstrapping\n",
        "\n",
        "Uma primeira ideia é repetir o proceso todo várias vezes, criando uma separação aleatória a cada vez e treinando modelos independentes. Então, podemos pegar a média das métricas obtidas com cada modelo. Esta técnica de validação cruzada é chamada **bootstrapping**. Podemos usar a função `ShuffleSplit` do sklearn para isso."
      ]
    },
    {
      "cell_type": "code",
      "metadata": {
        "id": "Hq079eVBL84Y",
        "colab": {
          "base_uri": "https://localhost:8080/"
        },
        "outputId": "e5b9742d-3cdc-43bb-cfc3-781fd8374e1b"
      },
      "source": [
        "from sklearn.model_selection import ShuffleSplit\n",
        "\n",
        "X = dados_completos.drop('fruit_name', axis='columns')\n",
        "y = dados_completos['fruit_name']\n",
        "\n",
        "# Vamos criar 10 separações, mantendo 20% de teste em cada uma\n",
        "rs = ShuffleSplit(n_splits=10, test_size=.2)\n",
        "\n",
        "# List para armazernamos as acurácias de cada modelo\n",
        "acuracias = []\n",
        "\n",
        "# Agora iteramos por cada separação e treinamos um modelo\n",
        "# O método split retorna índices para o vetor passado como parametro\n",
        "# O .loc é a maneira de indexar tabelas no pandas a partir de índices\n",
        "for train_index, test_index in rs.split(X):\n",
        "  modelo_treinado = modelo.fit(X.iloc[train_index], y.iloc[train_index])\n",
        "  predicoes = modelo_treinado.predict(X.iloc[test_index])\n",
        "  acuracias.append(accuracy_score(y.iloc[test_index], predicoes))\n",
        "\n",
        "print(acuracias)\n",
        "print(\"Média das acurácias: \", sum(acuracias) / len(acuracias))\n",
        "#Uma abordagem seria estratificar a separação entre treino/teste. A estratificação procura garantir que a distribuição dos dados é semelhante entre os grupos. Ela pode ser feita tanto para atributos como para rótulos. \n"
      ],
      "execution_count": null,
      "outputs": [
        {
          "output_type": "stream",
          "text": [
            "[0.9166666666666666, 0.8333333333333334, 0.75, 1.0, 0.8333333333333334, 0.9166666666666666, 0.9166666666666666, 0.9166666666666666, 0.9166666666666666, 0.8333333333333334]\n",
            "Média das acurácias:  0.8833333333333334\n"
          ],
          "name": "stdout"
        }
      ]
    },
    {
      "cell_type": "markdown",
      "metadata": {
        "id": "zXo4B8NmVtIY"
      },
      "source": [
        "Podemos observar que obtemos 88% de acurácia, bem próximo dos 90,9% que obtivemos no teste anterior. Vale observar que ao rodar novamente o teste poderemos obter um valor de acurácia diferente visto que as separações são feitas de forma aleatória.\n",
        "Fica bem claro que esta acurácia estima melhor que a anterior pois foi um resultado de uma média de diversos testes. Podemos aumentar o número de execuções para termos uma estimativa melhor, porém nem sempre poderemos deviado ao tempo computacional que pode ser preciso em alguns casos.\n",
        "\n",
        "## K-Fold\n",
        "\n",
        "Uma alternativa a esta abordagem é denominada validação cruzada *k-fold* (k-partições? Não há uma boa tradução ainda.). A ideia é embaralhar os dados e então dividí-los em *k* partições. Então, separamos a primeira partição como teste e treinamos um modelo nas *k-1* partições restantes; na sequência, separamos a *segunda* partição como teste e treinamos outro modelo nas restantes e assim por diante até que todas partições tenham participado do teste. \n",
        "\n",
        "Com isso, treinamos *k* modelos sobre dados diferentes. Como antes, podemos pegar as médias de cada métrica para usarmos como estimativas.\n",
        "\n",
        "O sklearn nos fornece uma função que automatiza o processo e não precisamos criar o loop manualmente como fizemos antes. Esta função é a `cross_val_score`."
      ]
    },
    {
      "cell_type": "code",
      "metadata": {
        "id": "t4RMiPy-TDn4",
        "colab": {
          "base_uri": "https://localhost:8080/"
        },
        "outputId": "b2025786-7591-416b-a7e0-6ca637506257"
      },
      "source": [
        "from sklearn.model_selection import cross_val_score\n",
        "\n",
        "# O parâmetro cv indica quantas partições criaremos\n",
        "scores = cross_val_score(modelo, X, y, cv=5)\n",
        "print(\"Acurácia média: \", scores.mean())"
      ],
      "execution_count": null,
      "outputs": [
        {
          "output_type": "stream",
          "text": [
            "Acurácia média:  0.8818181818181818\n"
          ],
          "name": "stdout"
        }
      ]
    },
    {
      "cell_type": "markdown",
      "metadata": {
        "id": "dRXqvSbSjeyd"
      },
      "source": [
        "Da mesma forma que no bootstrapping, mais uma vez obtivemos uma acurácia próxima aos 88%, então me parece razoável dizer que esse modelo teve um desempenho bem superior ao que eu havia criado manualmente na tarefa anterior, na qual o modelo obteve uma acurácia de 73%. Apesar de não ter utilizado uma boa métrica de avaliação para o modelo que criei manualmente, acredito que podemos dizer que o modelo criado nessa tarefa foi bem mais eficiente que o modelo criado manualmente."
      ]
    }
  ]
}